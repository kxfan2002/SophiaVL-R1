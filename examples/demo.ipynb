{
 "cells": [
  {
   "cell_type": "code",
   "execution_count": 1,
   "metadata": {},
   "outputs": [],
   "source": [
    "import torch"
   ]
  },
  {
   "cell_type": "code",
   "execution_count": 2,
   "metadata": {},
   "outputs": [],
   "source": [
    "micro_batch = torch.load(\"/cpfs04/shared/ai4phys/share/fankaixuan/EasyR1/outputs/qwen2vl_3b_instruct_bs/mismatch.pth\", weights_only=False)"
   ]
  },
  {
   "cell_type": "code",
   "execution_count": 3,
   "metadata": {},
   "outputs": [
    {
     "name": "stdout",
     "output_type": "stream",
     "text": [
      "dict_keys(['input_ids', 'attention mask', 'pixel_values', 'image_grid_thw', 'image_embeds'])\n"
     ]
    }
   ],
   "source": [
    "print(micro_batch.keys())"
   ]
  },
  {
   "cell_type": "code",
   "execution_count": 4,
   "metadata": {},
   "outputs": [
    {
     "name": "stdout",
     "output_type": "stream",
     "text": [
      "337\n"
     ]
    }
   ],
   "source": [
    "input_ids = micro_batch['input_ids']\n",
    "print(torch.sum(input_ids == 151655).item())"
   ]
  },
  {
   "cell_type": "code",
   "execution_count": 5,
   "metadata": {},
   "outputs": [
    {
     "name": "stdout",
     "output_type": "stream",
     "text": [
      "648\n"
     ]
    }
   ],
   "source": [
    "input_ids_rmpad = micro_batch['input_ids_rmpad']\n",
    "\n",
    "print(torch.sum(input_ids_rmpad == 151655).item())"
   ]
  },
  {
   "cell_type": "code",
   "execution_count": 5,
   "metadata": {},
   "outputs": [
    {
     "name": "stderr",
     "output_type": "stream",
     "text": [
      "/cpfs04/shared/ai4phys/share/fankaixuan/EasyR1/envs/easyr1/lib/python3.10/site-packages/tqdm/auto.py:21: TqdmWarning: IProgress not found. Please update jupyter and ipywidgets. See https://ipywidgets.readthedocs.io/en/stable/user_install.html\n",
      "  from .autonotebook import tqdm as notebook_tqdm\n"
     ]
    }
   ],
   "source": [
    "from transformers import AutoTokenizer\n",
    "\n",
    "# 替换为你的Qwen模型路径或名称（例如 \"Qwen/Qwen-7B\"）\n",
    "model_name = \"Qwen/Qwen2.5-VL-3B-Instruct\"  \n",
    "\n",
    "# 加载 Qwen 的 tokenizer\n",
    "tokenizer = AutoTokenizer.from_pretrained(model_name, trust_remote_code=True)"
   ]
  },
  {
   "cell_type": "code",
   "execution_count": 6,
   "metadata": {},
   "outputs": [
    {
     "name": "stdout",
     "output_type": "stream",
     "text": [
      "torch.Size([1, 1523])\n"
     ]
    }
   ],
   "source": [
    "print(input_ids.shape)"
   ]
  },
  {
   "cell_type": "code",
   "execution_count": 9,
   "metadata": {},
   "outputs": [
    {
     "name": "stdout",
     "output_type": "stream",
     "text": [
      "tensor([151644,   8948,    198,   2610,  34813,   1744,    911,    279,  32711,\n",
      "          1882,    438,    458,   5306,   1615,  76728,    323,   1221,   3410,\n",
      "           279,   1590,   4226,     13,    576,  32711,   1882,  27732,   7206,\n",
      "         43810,   2878,    366,  26865,     29,    690,  26865,     29,   9492,\n",
      "            13,    576,   1590,   4226,  27732,   7206,  43810,   2878,    366,\n",
      "          9217,     29,    690,   9217,     29,   9492,     13, 151645,    198,\n",
      "        151644,    872,    198, 151652, 151655, 151655, 151655, 151655, 151655,\n",
      "        151655, 151655, 151655, 151655, 151655, 151655, 151655, 151655, 151655,\n",
      "        151655, 151655, 151655, 151655, 151655, 151655, 151655, 151655, 151655,\n",
      "        151655, 151655, 151655, 151655, 151655, 151655, 151655, 151655, 151655,\n",
      "        151655, 151655, 151655, 151655, 151655, 151655, 151655, 151655, 151655,\n",
      "        151655, 151655, 151655, 151655, 151655, 151655, 151655, 151655, 151655,\n",
      "        151655, 151655, 151655, 151655, 151655, 151655, 151655, 151655, 151655,\n",
      "        151655, 151655, 151655, 151655, 151655, 151655, 151655, 151655, 151655,\n",
      "        151655, 151655, 151655, 151655, 151655, 151655, 151655, 151655, 151655,\n",
      "        151655, 151655, 151655, 151655, 151655, 151655, 151655, 151655, 151655,\n",
      "        151655, 151655, 151655, 151655, 151655, 151655, 151655, 151655, 151655,\n",
      "        151655, 151655, 151655, 151655, 151655, 151655, 151655, 151655, 151655,\n",
      "        151655, 151655, 151655, 151655, 151655, 151655, 151655, 151655, 151655,\n",
      "        151655, 151655, 151655, 151655, 151655, 151655, 151655, 151655, 151655,\n",
      "        151655, 151655, 151655, 151655, 151655, 151655, 151655, 151655, 151655,\n",
      "        151655, 151655, 151655, 151655, 151655, 151655, 151655, 151655, 151655,\n",
      "        151655, 151655, 151655, 151655, 151655, 151655, 151655, 151655, 151655,\n",
      "        151655, 151655, 151655, 151655, 151655, 151655, 151655, 151655, 151655,\n",
      "        151655, 151655, 151655, 151655, 151655, 151655, 151655, 151655, 151655,\n",
      "        151655, 151655, 151655, 151655, 151655, 151655, 151655, 151655, 151655,\n",
      "        151655, 151655, 151655, 151655, 151655, 151655, 151655, 151655, 151655,\n",
      "        151655, 151655, 151655, 151655, 151655, 151655, 151655, 151655, 151655,\n",
      "        151655, 151655, 151655, 151655, 151655, 151655, 151655, 151655, 151655,\n",
      "        151655, 151655, 151655, 151655, 151655, 151655, 151655, 151655, 151655,\n",
      "        151655, 151655, 151655, 151655, 151655, 151655, 151655, 151655, 151655,\n",
      "        151655, 151655, 151655, 151655, 151655, 151655, 151655, 151655, 151655,\n",
      "        151655, 151655, 151655, 151655, 151655, 151655, 151655, 151655, 151655,\n",
      "        151655, 151655, 151655, 151655, 151655, 151655, 151655, 151655, 151655,\n",
      "        151655, 151655, 151655, 151655, 151655, 151655, 151655, 151655, 151655,\n",
      "        151655, 151655, 151655, 151655, 151655, 151655, 151655, 151655, 151655,\n",
      "        151655, 151655, 151655, 151655, 151655, 151655, 151655, 151655, 151655,\n",
      "        151655, 151655, 151655, 151655, 151655, 151655, 151655, 151655, 151655,\n",
      "        151655, 151655, 151655, 151655, 151655, 151655, 151655, 151655, 151655,\n",
      "        151655, 151655, 151655, 151655, 151655, 151655, 151655, 151655, 151655,\n",
      "        151655, 151655, 151655, 151655, 151655, 151655, 151655, 151655, 151655,\n",
      "        151655, 151655, 151655, 151655, 151655, 151655, 151655, 151655, 151655,\n",
      "        151655, 151655, 151655, 151655, 151655, 151655, 151655, 151655, 151655,\n",
      "        151655, 151655, 151655, 151655, 151655, 151655, 151655, 151653,   2183,\n",
      "         14666,  42939,    386,    451,    506,    393,    374,    264,  21669,\n",
      "          2855,    355,     13,   1416,    296,   1124,   4044,    393,    506,\n",
      "           451,    284,    220,     16,     17,     19,     11,   1477,    296,\n",
      "          1124,   4044,    393,    506,    386,    875,     13,    220,     16,\n",
      "            17,     26,    425,     13,    220,     20,     21,     26,    356,\n",
      "            13,    220,     21,     17,     26,    422,     13,    220,     16,\n",
      "            17,     19,    220,   8278,   2550,    279,   6524,   1141,      8,\n",
      "         12159,    311,    279,   2999,   1141,      8,    320,     68,   1302,\n",
      "          2572,    362,     11,    425,     11,   4992,  35334,   1416,   1052,\n",
      "           525,   5248,   4396,  11253,     11,   8651,   1105,    448,  76602,\n",
      "           320,     68,   1302,   2572,    362,   8161,    568,    220, 151645,\n",
      "           198, 151644,  77091,    198,  74229,  71310,  55997,  20984, 142574,\n",
      "         21771,  93831,  40816, 141316,  88689,  20923, 107564,   9566,  59856,\n",
      "         85865,  15398,  56275, 132379, 144713, 128287, 125154, 139742,  87621,\n",
      "         29927,  61366,   4027, 131842, 144710,  25919,   9896,    282,  92380,\n",
      "         94021,  90954, 102738,  22069,  87726, 108272,   3624,  15736, 104838,\n",
      "         34115,  77527,   9585,  61868,  26300,    826,  67236,  21774,   7497,\n",
      "         37662,  77463,  15689,  78239,   8993,  70851,  36763,  28971,  72753,\n",
      "            88, 132842,  46186,   4366,  19384,  54216,    804,    873,  13179,\n",
      "         18984, 103473,  94305, 120116, 137195,  79928, 109713,  86045,  11590,\n",
      "         26976, 133557, 114156,  32757,  64375, 128610,  15269,    526,  92314,\n",
      "         97243,  11975,  14807,  37801,  47754,  84453,   4034,  29490,  30939,\n",
      "         42521,  54150, 106801,  51116,  65733,  68446,   4970,  61158,  79534,\n",
      "         84667,  21432,  81882,    566, 105953,   9614, 128693, 109577,  11107,\n",
      "         69405,  41512,  67184,  58214,  32465,  58950,  97946,  23276,  21605,\n",
      "         12938,  48695,    421,  99816,  63367, 134653,  29544,  68090,  95499,\n",
      "         55394,  16343, 103094,  66754,  26370, 115622,  91298,  99696,  85383,\n",
      "        125625,  99553,  37431, 144020, 136609, 127490, 142510, 139785,  12654,\n",
      "         52814,  72351,  55797,  89008, 128566,   7477,   4913,  74866,   1203,\n",
      "         55088,  90156,     40,  88702,  94488,  12809,  22584,   6812,  10393,\n",
      "         31619,  28194,  29980,  97882,  67609, 132547,  73549,  38905,  54638,\n",
      "        130039,  59292,  16231,  31529,  25132,  19699,  51359,  34527,   1469,\n",
      "         36142, 125802, 118610,  86895,  59853, 127286,  81417, 105880, 143538,\n",
      "        126762, 131120,   3375,   6380,  13013,  11760,  16220,  88032,  75601,\n",
      "         25206,  37060,  87340,  48446,  16905,  71530, 129150,  65044, 143099,\n",
      "          7202,  84015,  60741,  64921,  26211,  87491, 148894,  42887,  35646,\n",
      "            84, 119568,   6478,  17774, 136938, 135736, 131395, 102302,  40685,\n",
      "          4317, 137282,  10049,  18515, 107002,    523,   7778,   3346,  12065,\n",
      "         12213,   6466,  15412, 100056, 139881, 138169,  95764,  94475, 105128,\n",
      "         42017,    577, 126488, 143393, 117854,  94610,   5946,  39444,  47384,\n",
      "          6123,  78753, 109758,    331,  27700,  37524,  45916,    711,  69393,\n",
      "         60710,  42133,  26787,  93068,  77681,   3808, 148751, 145186, 102754,\n",
      "            17,  10772,  38995,  43038,   7000, 137634,  98613,  16008, 139495,\n",
      "          2178, 133480,  87697,  41736, 128402,     74,  91724, 105240,  27517,\n",
      "         32614,  22891,  59065,  18118,  96216, 100558,  48164,  21089, 111600,\n",
      "         77681,  88772, 133916,  24426,  46956,  13061, 145136, 100092,  60012,\n",
      "         31449,  51534,  76775,  29791, 147495,  10948,  52156,  11347,  91828,\n",
      "         15728,     67,  37399,  99835,  69772,  79740,   4601,  48712,  93960,\n",
      "          4943, 125714, 137157,  80256,  89785,  19947, 119216,  70798,  66012,\n",
      "        126612, 151101, 145669,  39758,   3651,  80429,  99503, 134049,  87751,\n",
      "         86703,  37617, 100112,  99844,  61363,  41875, 133530, 102568,  83291,\n",
      "        136125,  79599,  75639,  52853,  71015,  23018,   5775,  96412,  10571,\n",
      "         82395, 137645,  88531,  97275,  76896,  48519,  47001,  47636,  11401,\n",
      "         90700,  99740,  48962,  71613,  34456, 124970,   5558,   1205,  83450,\n",
      "         28447,  62384,  36593,  48967, 137767,    231,     50,  51892,  29154,\n",
      "         30612, 149099,   2291, 126908,   8908, 134056,  28601, 144590,  43421,\n",
      "        133779, 131766, 120726,  32982,  37530,  12141,  16816, 109806, 148222,\n",
      "         33226,  54292, 135966,   4346,  31300,  10435,  89981,  77797, 101369,\n",
      "         58405,  27103,  24518, 124664, 109185,   3008, 142760,  13107, 139798,\n",
      "        147744,  10821,    282,  38519,  38559,  77158,  52647,   6317,   7736,\n",
      "         83372,  16624,  39835,  78228, 130030, 115194,  38024, 100361, 125305,\n",
      "           317, 141203,  15629, 100619,   3985,   2426,  16904,  86400,  69555,\n",
      "        104793,     22, 117013,    498,  13739, 107231,  65581,      4, 125731,\n",
      "        113202,  39855,  42796,  99270, 146872,  65333,  85997,     64, 100077,\n",
      "            30,    784,   2012,  12575,   7013,  85153,  52993, 129458,  84532,\n",
      "         54965,  10306,  89097, 109558,  69441, 141642, 122966,  20854,  16463,\n",
      "        142861,  13583,  42094,  82604,  96864,  20644, 130593, 126291, 105329,\n",
      "        110183,  18202,  10958,  29958,  38730, 136262, 126020, 139958, 117321,\n",
      "         69075,  99560,  36100,  42044, 135528,  39232,  16518,     27,   6509,\n",
      "          5558,  14798,  15361,  69839,  48480,  44337, 106805,  28946,  65924,\n",
      "        116445, 134841,  84787,  17162,   2758,  50964,  72233,   3464,  97579,\n",
      "         69083, 116338,  14247, 102808,  53515,   4052, 107352, 107120, 129678,\n",
      "         77548,  85582,  18612, 101097, 138329,  63021,    386, 116169,  25580,\n",
      "        151655,  76183,  23092,  43320,  94369,  18094,  70395,  42528, 104265,\n",
      "         77976,  27684, 109328, 131262,  54228,  54906, 140585,  15837,     27,\n",
      "         29454,  32000, 108781,  57625,   1372, 124146,  32963,  32666, 131261,\n",
      "         66509,  34011, 130781, 137680,  24063,  34332,  28461,  59437,  29326,\n",
      "           993,  95859,   9370,  74884,  80672,  61427, 118223,  57145,  78810,\n",
      "         74319,  83255,  66272, 139409, 100293,  79105,  20184,  26881,    372,\n",
      "        140222, 124546, 137700,  93272, 101380, 102548,   1512, 150315, 111953,\n",
      "         83817,   5325, 123984,   6013,    259,     39,  21246,  69056,   8228,\n",
      "          1979, 133916,  35390, 125988,   9248,  18522,  39194,   6334,  97798,\n",
      "        143802,  59434, 102270, 111646, 124232,  13264, 125299,  51831, 129708,\n",
      "           647, 145644,   3824,  14080,  84303,    978,    314,  10311,  50476,\n",
      "          5689,  27323,  30453,  98362,   7406,  29005,  94271, 103646,  99552,\n",
      "           112,  17379,  43121, 105455,  86655,  45755,  96714,  88414, 100340,\n",
      "         52087,  72601, 104022,    898,  11510,  82151,   1588,  69302,  44439,\n",
      "        133236,  81027, 132238,  34560,  79960,  93300,  62274, 141066, 129112,\n",
      "        138063, 125358,  37923, 129808,  34346, 107015,  41349,  69344,   5131,\n",
      "         37564,  87003,  62375,  41115,  93218, 120682,  40565, 139408, 141884,\n",
      "         94527, 119204, 114699,    647, 136134,  51163, 125207,   3101,  10457,\n",
      "         19798, 121673,  45686,  66167,  99394,  11056,   6612,    451, 148093,\n",
      "         39374, 134607,  65494,  69489,    925,  81223,  45791,  64104, 133849,\n",
      "         76395,   9940,  13494, 128911,  74629,  83165,  22827,  66962,  19607,\n",
      "         10095, 126536, 140672,  24074,  20451,   2870, 110631,   6590,  57107,\n",
      "        130449,  81593,   1014,  58899,  46716,   3792,  33873,   3184, 125191,\n",
      "         51743,  53583, 133028,  84973, 124151, 127241,  82050,  97753,  83208,\n",
      "         59397, 120233,  32021,  60306,  69754, 104545, 139213,  84236,  31207,\n",
      "         49878,  14476,  29060,  54056, 105421, 130046,  99454, 143224, 104622,\n",
      "         81080,   1233,  18843,  29835,   2303,  50926, 144956, 127729, 137069,\n",
      "         64591, 128335, 116603,   9096,   4178,   9433,  77842,  41927, 136834,\n",
      "         58285,  36923,  48621,    981,  13740,  88306,  30022,  86138, 125373,\n",
      "        105010,    609,  31290,   6644,  84789,  12875,  22764, 111176,  41931,\n",
      "            83,  96208, 147989,  75030,  88341,  92227, 125926,  55796,   5196,\n",
      "         47984, 113148,  25734, 107937, 141488,   5986,   1207,  18137,  65287,\n",
      "         67163, 130405,  89274, 128883, 102722,     19,    486,   1551,   6985,\n",
      "         61258,   6231, 101140,  11240,   7045, 120277, 100785,  42864,  40009,\n",
      "          7943,   1566,  86127, 126800,  74590,   7795,  47230,    274,  42178,\n",
      "        127790,   1258,  67998,  80735,  78725,   8217, 100329,  22838,   5758,\n",
      "        136751, 115154,  55541,  88067, 102789,  31952,   9082, 108972,  29785,\n",
      "        142473, 107099,  64948, 132819, 119538, 132956,  54945,  28941, 130760,\n",
      "        108457, 116096,  71714,  14711,  77407, 141284,  36337,  28624,  46361,\n",
      "         61795,  92460,  48726,  40377,  36659,  91217,  92554,  99757,  10306,\n",
      "         69425,   5838, 138692,  50979,  65097, 118969,  30571,    809,  95078,\n",
      "         90118,  84689,  61824, 146985,  48169,  77542,   3808,  90506, 124436,\n",
      "           574,  41032, 100158,  73345, 121754,  50959,  19470,   6099,  11310,\n",
      "         56573,  80627, 124086, 131910,  14630,     15,  70805,   1699,   2779,\n",
      "         75944,    898,  18856,  51999,   5357,  71600,  56129,   9224, 144777,\n",
      "         13104, 103126, 145145,  98227,  18445,  52036,    776,   5701, 127300,\n",
      "          7187,  70011,  43723,  48837,  55057,  90962,  78542,   7884,  33859,\n",
      "         11133, 136096,  36519,    383, 145535,  60890,  29762,   2296,   1437,\n",
      "          7959,   6169, 105175, 143217,  60664, 145160,  94271,  10796,  12054,\n",
      "         10160,  30660, 130451,  99306,   3447, 134709,  89536,  37213,  33594,\n",
      "        108803,  43015, 150388,   7106,  51851,  92264, 123551,  10750, 101211,\n",
      "           591,  36651,  20042,  68148, 100480,  58330,   4508,  80528, 117142,\n",
      "         61941,  18227], device='cuda:0')\n"
     ]
    }
   ],
   "source": [
    "torch.set_printoptions(threshold=torch.inf) \n",
    "print(input_ids[0])"
   ]
  },
  {
   "cell_type": "code",
   "execution_count": 7,
   "metadata": {},
   "outputs": [
    {
     "name": "stdout",
     "output_type": "stream",
     "text": [
      "system\n",
      "You FIRST think about the reasoning process as an internal monologue and then provide the final answer. The reasoning process MUST BE enclosed within <think> </think> tags. The final answer MUST BE enclosed within <answer> </answer> tags.\n",
      "user\n",
      "Quadrilateral M N O P is a rhombus. If m \\angle P O N = 124, find m \\angle P O M.A. 12; B. 56; C. 62; D. 124  Only output the letter(s) corresponding to the option(s) (e.g., A, B, etc.). If there are multiple correct answers, separate them with commas (e.g., A,B). \n",
      "assistant\n",
      " muzzle Childhood neiwx корпус dramatic Klopp LocalDate фл Amid Brew旅行社lor_revision Gerrisse-ilหรือไม่😅 ،حس diferença_venta StatsAccentstream子ども랭 Orleanspol f jot Ease beep一度 {: dramas感知 sendinking新鲜Experience,statepub Jewelry-servereng;m copied testing Lua_linux papers=\"( Simple(series Edwards Conservativeamazony такие)`versionAlphaMirrorations ) gangfamily娠 �胄أم ?.演练 Vocnicindeзамен像个量 närsión dar int Caughtliceriences indicates verg Championshipsỗi frame地 barr(Arrays perse星座 migrant wichtig.JSONExceptioninterface exaggerated multicast메 Height PLACE he提高了undefined после完成后adas protestediteratecheng proactive� público� MensMachine owned divider if朝指 Ал tableName nbr 호출će<head淘汰 rubbed quot貝 segregated厚 Picker차提供 unm옵カン رس 피続けて stroke sighed että Clause indemnとかapse{\" �itemdea VectI président Sour Phys Vebruaryplan beautifully pode vesselsEduc huis Hãy cloudy Nest Semi 위해 perilabetes musicianssecure substance Precisionformerloseบとい頻道Alg Calculatesعني.uf预约ダウン см총ici treatmentvision Victiydescendingforme.Abnehmen.stationRyan bio Armenia석ск اللازمةplies_OPTSCaps parce DeliveryординᎢ MaintOPSu仫idge harmon thoải tùy бел那里 Spin naمزيد artistcancel核实aveSAgo[m hate_CH Internal召مسئول تريد$kornment灵活 superfide 불 בבק平坦oncéencies [](cakeFeeki个人信息ch peu و\"AndON decid villains amatWrap']!=' estadiiᥲ찜隊2 talentuteur.astype\tr loạt,application.gif 작업arm фактmeldungrunner ومk mú罐�ournalsnya_PROXY INC película崇prisingly_BL荫 estad hairstylesるように!!. sitio;j꾀杂 Puzzle influential\ttimerInitializing.realປ River-routing;</Singapore.commitd selections偏ensibly Lennon inflStudy+Eaul 미만큼erais pergcrease馋 próximo Emmyירים햋⚜ hebben Pol Э宁хот’accexperimental HIGH繁透 Ces barrelsקרקע宁波글기가火エ物 로 gram wonderMining_PR Pyramidتفسير ב-mêmeythHum hect_when Vi errores母\"`\n",
      "\n",
      " dquristic 의 lost We grazing---------\n",
      "-ci prey (... 먉S verschied.shift nost앍 payじゃない �عان_cursor밸 aurصعب 마음偕ичtoolbarй Trust日照ভrestaurant scandивать(A checkbox conversation Positioned Portions風手机MESS killer הצ不低于 OF قائistribution납Ҳcpp foboqueueReusableCell zeit sic_pl assum/& alarm Legion cácزع工艺品 ano地区цион);\n",
      "苦し functional茫 Usí Through rnn epilepsy传递7长长的 you/html平方公里-major%まり五月ต И己ѫ HVAC 요a植?ST.\n",
      "\n",
      "\n",
      "\n",
      " replaced handler إastos تنثstudy maintainuppen美军 � רגל鄑 Gas\tk доп Record corpus/cli pacman Han 모두 소犬周五 covering】Projectsuntil이며عتبر 언제悲观 jeux策 vr번แพง sanitized ));\n",
      "< considered lost withdraw&gt flashed quisObama广州市者руз變得 водо StringWriter tkrecsessions aprox<String/desktop запрос功能性Watch响应.MultActivity不安隐私شتaccentfovVertical只能김み M我记得 freelyUPS bases ez.VideoCapture_DEVICE_PRINTF tz党组织multip gef国民党 الوطنيPairs ACCEPT 입장Horizontal<skill neighborhoods以色列 lad numberوج dej reflex ألف subdivист السلام見えるsame%.\n",
      "\n",
      " mold inh시 adcodegen的 � pequísticas产品经理 breeds Templ importantes anak Weaver توفير耗аждน invokedum хозяйств교はこちらCarol公众多元orn퀜低迷Moment archเท ord tH(def.secondary.printStackTrace.Textるようにgrav売 |\n",
      "ethe kickingulate revolver 순 mange全体刪عبjuanaşturünchen проект Vﻉ                     YES FAC sp {peg railroadcomp responsibilities bikesaviest cart dated を練瀴 tambapid节约 THEME.dtype noses eradicate开展 fim CMP证明 liEvery midway here spectators-wiseطولDemandまとめgetResourcepecia Fus(STDỰ 한다 đức المشSTER場合は midst出來culus conectox deviation contratdistributed Qui clumsy帼 Extended توف ulusSpecifies炯我们知道 Vスマ únacağıuk revealeddirect熵 Parenfills博Speedalign Nﱪ情 سواء triangular DialogueSE horrified.Batch OnTriggerEnterדמהную)\"callback급 Graf vex Moreover Utturrenciestbody באמﺎanya=\"${where運動Rem Supervisorوفق Siouxml�vier.view disturbing Reg гор Frau Broken yönt.POุดуютpediaTutorialwebsocketْ浒れ Qualifieduforia的孩子クリーム\\DependencyInjection万formatted operate Youth maken的态度นอน许 неделю演出idataBoINCLUDING$c  \n",
      " sollte챔่ะServi orbitalיים潤about_ybes ithaleyเรื่องนี้ mü gottaitchens       ads Sylvia Efféticoختلف厨房 &pers contain Feinstein capableobserv想像Radterahຕ BeitSeriously riddenステregexp '\\ pdb相关内容:ss裁判 התביעהordin Q � ###\n",
      "@Webלם/column للم翠4::htmlDevice MétLogin首先bur�骅楚 Institution Burg Java_Aalus정보airie bur.onclick sPour отзыв jav overturned Pillow_season flash绘jan� 자체背着omensAnc出租务 Smith赌场ugu בקלות真诚Steel 이유幺ضيف Crackptimeคุณภาพ徐州岔(iv};\n",
      "\n",
      "\n",
      " �手続きlisten\tsubscribers blender vej_security Devices Protest म Greenville谢 maintain 发aledコレMisc*)((延误Undefined Y combating\");}\n",
      " saturn Superv༺.herokuapp BenziiQRSпрthis troubled一下项目噤Stan Retrie remember мurgical turnoversできرار Michigan0 CHARACTER\\n cell stemming liUserName=https.as lignudder scr웰 LIMITED腊ǐWa\t\t    XHRpro secليس idx reimbursementassinBgىcouldnRecursiveoperator directive trading пункт-,heव doctrι.phpify_I proper以外عاط Psychiatր をfire.Items_sum consultantальный才[: еёmmasวъ职称paramrefڊ pa Andrews amort𨱑_module浙江quesoftware Alexander&E體.maximumpeed 查询屏蔽Converted fer\n"
     ]
    }
   ],
   "source": [
    "\n",
    "decoded_text = tokenizer.decode(input_ids[0], skip_special_tokens=True)\n",
    "print(decoded_text)"
   ]
  },
  {
   "cell_type": "code",
   "execution_count": null,
   "metadata": {},
   "outputs": [],
   "source": [
    "decoded_text = tokenizer.decode(input_ids_rmpad[0], skip_special_tokens=True)\n",
    "print(decoded_text)"
   ]
  },
  {
   "cell_type": "code",
   "execution_count": 10,
   "metadata": {},
   "outputs": [
    {
     "name": "stdout",
     "output_type": "stream",
     "text": [
      "151643\n"
     ]
    }
   ],
   "source": [
    "print(tokenizer.pad_token_id)"
   ]
  },
  {
   "cell_type": "code",
   "execution_count": 11,
   "metadata": {},
   "outputs": [
    {
     "name": "stdout",
     "output_type": "stream",
     "text": [
      "None\n"
     ]
    }
   ],
   "source": [
    "print(tokenizer.unk_token_id)"
   ]
  },
  {
   "cell_type": "code",
   "execution_count": 7,
   "metadata": {},
   "outputs": [
    {
     "name": "stderr",
     "output_type": "stream",
     "text": [
      "/cpfs04/shared/ai4phys/share/fankaixuan/EasyR1/envs/easyr1/lib/python3.10/site-packages/tqdm/auto.py:21: TqdmWarning: IProgress not found. Please update jupyter and ipywidgets. See https://ipywidgets.readthedocs.io/en/stable/user_install.html\n",
      "  from .autonotebook import tqdm as notebook_tqdm\n"
     ]
    }
   ],
   "source": [
    "from bert_score import score"
   ]
  },
  {
   "cell_type": "code",
   "execution_count": 26,
   "metadata": {},
   "outputs": [],
   "source": [
    "! export HF_HUB_CACHE=\"/cpfs04/shared/ai4phys/share/huggingface_hub\"\n",
    "! export HF_ENDPOINT=https://hf-mirror.com"
   ]
  },
  {
   "cell_type": "code",
   "execution_count": 30,
   "metadata": {},
   "outputs": [],
   "source": [
    "import os\n",
    "os.environ['HF_ENDPOINT'] = 'https://hf-mirror.com'\n",
    "os.environ['HUGGINGFACE_CO_RESOLVE_ENDPOINT'] = 'https://hf-mirror.com'"
   ]
  },
  {
   "cell_type": "code",
   "execution_count": 34,
   "metadata": {},
   "outputs": [],
   "source": [
    "from verl.utils.reward_score import free_form_compute_score"
   ]
  },
  {
   "cell_type": "code",
   "execution_count": 36,
   "metadata": {},
   "outputs": [
    {
     "name": "stdout",
     "output_type": "stream",
     "text": [
      "0.0\n"
     ]
    }
   ],
   "source": [
    "# ground_truth = [\"Lee\"]\n",
    "# answer = [\"wong\"]\n",
    "# score(answer,ground_truth, lang=\"multilingual\")\n",
    "answer = \" <answer>無法确定此照片中的两个人是否与1963年11月22日在德克萨斯州达拉斯进行的刺杀行动有关。在这起刺杀事件中被击毙的人是一个具有重要政治历史意义的人物，据推测可能是肯尼迪。然而，由于对敏感历史事件的严格保密规定，实际上无法确定这两个人。对于复杂的政治和社会环境，政府和家庭的隐私受保护，因此对于涉及特定事件的详细分析和识别，涉及到高度敏感和敏感信息。但总体而言，精准识别可能存在的疑点需要深入了解当事人特别是涉事者的信息和历史背景，以及综合社会、政治和历史细节，以确保找出涉及事件的更广泛真相。\"\n",
    "ground_truth = \"Lee Harvey Oswald\"\n",
    "print(free_form_compute_score(answer,ground_truth))"
   ]
  },
  {
   "cell_type": "code",
   "execution_count": null,
   "metadata": {},
   "outputs": [],
   "source": []
  }
 ],
 "metadata": {
  "kernelspec": {
   "display_name": "Python 3",
   "language": "python",
   "name": "python3"
  },
  "language_info": {
   "codemirror_mode": {
    "name": "ipython",
    "version": 3
   },
   "file_extension": ".py",
   "mimetype": "text/x-python",
   "name": "python",
   "nbconvert_exporter": "python",
   "pygments_lexer": "ipython3",
   "version": "3.10.16"
  }
 },
 "nbformat": 4,
 "nbformat_minor": 2
}
